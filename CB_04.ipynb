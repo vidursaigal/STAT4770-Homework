{
 "cells": [
  {
   "cell_type": "markdown",
   "metadata": {
    "hideCode": false,
    "hidePrompt": false
   },
   "source": [
    "# CB 4. Stat 4770/7770. Q2 Fall 2024"
   ]
  },
  {
   "cell_type": "markdown",
   "metadata": {
    "hideCode": false,
    "hideOutput": true,
    "hidePrompt": false
   },
   "source": [
    "## Introduction\n",
    "\n",
    "* In this coding brick you will download and analyze a data set, fitting both statistical regression models and machine learning models.\n",
    "* The Module 7 and 8 notes contain examples of fitting all these sorts of models, so if you get stuck they will make a good reference point.\n",
    "* The data set is the credit scoring dataset called PRSM. If you want to learn more about the background business problem and see a list of all the variables, there is a document on Canvas in the homework folder called \"PRSM_intro_4770_7707.pdf\".\n",
    "* If you have multiple Axes level plots in a cell, then putting the command plt.show() after each one will make sure that they are all printed."
   ]
  },
  {
   "cell_type": "markdown",
   "metadata": {
    "hideCode": false,
    "hidePrompt": false
   },
   "source": [
    "## Q1. Read in and review the data structure\n",
    "### 4 pts.\n",
    "\n",
    "* The data file to download is called \"PRSM_data\".\n",
    "\n",
    "a. Download the the data from the Canvas \"csv\" folder, to your computer and then into a pandas DataFrame. Call the data frame \"prsm_data\". Use the column called \"CaseNumber\" as the row index variable.\n",
    "\n",
    "b. Use the .info() method to summarize and print the data frame structure."
   ]
  },
  {
   "cell_type": "code",
   "execution_count": 2,
   "metadata": {
    "hideCode": false,
    "hidePrompt": false
   },
   "outputs": [],
   "source": [
    "import numpy as np\n",
    "np.set_printoptions(precision=6)\n",
    "import pandas as pd\n",
    "import matplotlib.pyplot as plt\n",
    "import seaborn as sns\n",
    "import os\n",
    "\n",
    "# Remove warnings\n",
    "import warnings\n",
    "warnings.filterwarnings('ignore')\n",
    "\n",
    "# Change and uncomment this filepath to the location where you downloaded the data set.\n",
    "#os.chdir('C:\\\\Users\\\\water\\\\Dropbox (Penn)\\\\Teaching\\\\7770s2024\\\\DataSets') \n",
    "\n",
    "#1a. (2pts.)\n",
    "\n",
    "#1b. (2pts.)\n"
   ]
  },
  {
   "cell_type": "markdown",
   "metadata": {
    "hideCode": false,
    "hidePrompt": false
   },
   "source": [
    "## Q2. Plot the distribution of PRSM score\n",
    "### 6 pts.\n",
    "\n",
    "a. Using the seaborn library, plot the distribution of the PRSM variable, using a histogram and KDE. \n",
    "\n",
    "b. Create a box plot of the PRSM variable.\n",
    "\n",
    "c. From parts a and b, describe any anomalies that you see in the distribution of PRSM, remembering that PRSM is a measure of how much of the loan has been repaid and would expected to be above 0.\n"
   ]
  },
  {
   "cell_type": "code",
   "execution_count": 3,
   "metadata": {
    "hideCode": false,
    "hidePrompt": false,
    "scrolled": true
   },
   "outputs": [],
   "source": [
    "#2a. (2pts.)\n",
    " \n",
    "#2b. (2pts.)\n",
    "\n",
    "#2c. (2pts.) Your answer here. \n"
   ]
  },
  {
   "cell_type": "markdown",
   "metadata": {
    "hideCode": false,
    "hidePrompt": false
   },
   "source": [
    "## Q3 Explore the relationship between PRSM score and FICO score\n",
    "### 5 pts.\n",
    "\n",
    "a. Using seaborn's regplot, plot a simple regression of PRSM against FICO.\n",
    "\n",
    "b. Using seaborn's relplot, make a color coded scatterplot of PRSM score and FICO score, colored (hue) by Loan.Type.\n",
    "\n",
    "c. Finally using 'lmplot' show a regression line for each level of LoanType (still using PRSM against FICO).  \n",
    " \n",
    "d. Comment on which of the three models, one line fits all, parallel lines or interaction seems more suitable to use as a model based on your graphs.  "
   ]
  },
  {
   "cell_type": "code",
   "execution_count": 4,
   "metadata": {
    "hideCode": false,
    "hidePrompt": false,
    "scrolled": false
   },
   "outputs": [],
   "source": [
    "# Q3 code goes here\n",
    "\n",
    "#3a. (1pt.)\n",
    "\n",
    "#3b. (1pt.)\n",
    "\n",
    "#3c. (2pts.)\n",
    "  \n",
    "#3d. (1pt.) Your comment here. \n"
   ]
  },
  {
   "cell_type": "markdown",
   "metadata": {
    "hideCode": false,
    "hidePrompt": false
   },
   "source": [
    "## Q4 Fit a simple regression model to the data.\n",
    "### 8 pts.\n",
    "\n",
    "a. Using the stats models library, fit a simple regression of PRSM v. FICO and print its summary output.\n",
    "\n",
    "b. Interpret the R-squared value.\n",
    "\n",
    "c. For two loans whose FICO score differs by 50, what does the model predict their *difference* in PRSM score will be? Do this calculation using Python and not \"by hand\". You can extract the  model coefficients from the fitted regression object using the \".params\" attribute. \n",
    "\n",
    "d. Based on the p-value of the FICO score, does it appear that this variable is an important predictor of PRSM? Explain your reasoning.\n",
    "\n",
    "e. Create a data frame for prediction (call it Xnew) that has a single column named \"FICO\" and two values, 650 and 700. Print the data frame.\n",
    "\n",
    "f. Using the .predict method, predict and print the PRSM score for these two loans.\n",
    "\n",
    "g. There is an attribute in the regression output called \"mse_resid\", the mean squared error. If you called your fitted model olsres1, then you get the MSE with the command 'olsres1.mse_resid'. Use Python to calculate the ***ROOT*** MSE.\n",
    "\n",
    "h. Approximately how wide (the distance from the center to the edge) would a 95% prediction interval be for the predictions you made in part 4f? This is called the \"margin of error\" for the predictions.\n",
    "\n"
   ]
  },
  {
   "cell_type": "code",
   "execution_count": 5,
   "metadata": {
    "hideCode": false,
    "hidePrompt": false
   },
   "outputs": [],
   "source": [
    "import statsmodels.formula.api as smf\n",
    "import math\n",
    "\n",
    "#Q4a. (1pt.)\n",
    "\n",
    "#Q4b. (1pt.) Your answer here. \n",
    " \n",
    "#Q4c. (1pt.)\n",
    " \n",
    "#Q4d. (1pt.) Your answer here. \n",
    " \n",
    "#Q4e. (1pt.)\n",
    " \n",
    "#Q4f. (1pt.)\n",
    " \n",
    "#Q4g. (1pt.)\n",
    " \n",
    "#Q4h. (1pt.)\n",
    "\n"
   ]
  },
  {
   "cell_type": "markdown",
   "metadata": {
    "hideCode": false,
    "hidePrompt": false
   },
   "source": [
    "## Q5 Fit the interaction model to the data.\n",
    "\n",
    "### 4 pts.\n",
    "\n",
    "a. Fit the model that includes the variables FICO, Loan.Type and the ***interaction*** between FICO and Loan.Type. Print the model summary. There is a nuance here, in that because the variable 'Loan.Type' name contains a period, Python thinks that it should look for variable named \"Loan\" that has an attribute called \"Type\". This will cause an error! The way to fix this problem is to use a special notation in the formula where you write Q(\"Loan.Type\") instead of just Loan.Type.\n",
    "\n",
    "b. Based on your fitted model, which Loan.Type, Original or Repeat, is the most sensitive to FICO score, in terms of performance? That is, which of the loan types has the largest slope?\n",
    "\n",
    "c. Is the difference in slopes statistically significant? Justify your answer.\n"
   ]
  },
  {
   "cell_type": "code",
   "execution_count": 6,
   "metadata": {
    "hideCode": false,
    "hidePrompt": false
   },
   "outputs": [],
   "source": [
    "#Q5a. (2pts.)\n",
    "\n",
    "#Q5b. (1pt.)  \n",
    "# Your answer here.\n",
    "\n",
    "#Q5c. (1pt.)  \n",
    "# Your answer here. \n"
   ]
  },
  {
   "cell_type": "markdown",
   "metadata": {
    "hideCode": false,
    "hidePrompt": false
   },
   "source": [
    "## Q6. Building a simple tree model\n",
    "### 6 pts.\n",
    "\n",
    "The following questions involve building a decision tree for the PRSM score. Here are the variables that are to be used as potential predictors:\n",
    "\n",
    "`\n",
    " ['Repayment.Percentage',\n",
    "  'Commission.Upfront', 'Validated.Monthly.Batch',\n",
    "  'Loan.Type', 'FICO',  'Years.In.Business', 'Satisfied.Accounts',\n",
    "  'Previous.Delinquent.Credit.Lines',\n",
    "  'Business.Entity.Type','Num.of.Legal.Items','Population.in.Zip.Code',\n",
    "  'Average.House.Value.in.Zip.Code', 'Income.Per.Household.in.Zip....',\n",
    "  'Median.Age.in.Zip.Code',\n",
    "  'Employment.in.Zip.Code',\n",
    "  'ISO.Name']   \n",
    "`\n",
    "\n",
    "Of these, all are continuous except 'Loan.Type', 'Business.Entity.Type' and 'ISO.Name'.\n",
    "\n",
    "a. Create a new version of the data frame that just has the continuous variables in it. Call it 'Xcts'. \n",
    "\n",
    "b. Create a new version of the data frame that just has the categorical predictor variables in it. Call it \"Xcat\".\n",
    "\n",
    "c. Binarize the categorical variables using the pandas get_dummies function (there is no need to use the 'drop_first=True' argument here).\n",
    "\n",
    "d. Build a final prediction data frame by merging the continuous and binarized categorical variables on their index. Call the combined data simply \"X\". Obtain the dimensions of X from the .shape attribute and print them.  \n",
    "\n",
    "e. Print the top 5 rows of the X data frame.\n",
    "\n",
    "f. Extract the PRSM score from the prsm_data, and save it into a variable called y. Once again print the first 5 entries in the y-variable."
   ]
  },
  {
   "cell_type": "code",
   "execution_count": 7,
   "metadata": {
    "hideCode": false,
    "hidePrompt": false,
    "scrolled": true
   },
   "outputs": [],
   "source": [
    "#6a. (1pt.)\n",
    "\n",
    "#6b. (1pt.)\n",
    " \n",
    "#6c. (1pt.)\n",
    " \n",
    "#6d. (1pt.)\n",
    " \n",
    "#6e. (1pt.)\n",
    " \n",
    "#6f. (1pt.) \n"
   ]
  },
  {
   "cell_type": "markdown",
   "metadata": {
    "hideCode": false,
    "hidePrompt": false
   },
   "source": [
    "## Q7. Split the data into training and test data sets\n",
    "### 4 pts.\n",
    "\n",
    "a. Use the sklearn function 'train_test_split' to split the data into training and test sets. Use 40% of the data for the test data and use a random number seed of 1940 for the random_state parameter in your call to 'train_test_split'. Print the dimensions of both the training and test data frames for the X variable."
   ]
  },
  {
   "cell_type": "code",
   "execution_count": 8,
   "metadata": {
    "hideCode": false,
    "hidePrompt": false
   },
   "outputs": [],
   "source": [
    "from sklearn.model_selection import train_test_split\n",
    "\n",
    "#7a. (4pts.)\n",
    "# Create the train/test split\n"
   ]
  },
  {
   "cell_type": "markdown",
   "metadata": {
    "hideCode": false,
    "hidePrompt": false
   },
   "source": [
    "## Q8. Create a simple tree\n",
    "### 6 pts.\n",
    "\n",
    "a. Using the training data, use the DecisionTreeRegressor class to build a simple tree with just 6 terminal/leaf nodes. You set the leaf node count with the 'max_leaf_nodes' parameter.\n",
    "\n",
    "b. Print the visual representation of the tree.\n",
    "\n",
    "c. By reviewing your tree, and with respect to Question 2c where you identified an anomaly in the PRSM scores, characterize the anomaly in terms of the X variables.\n",
    "\n",
    "d. Using the tree, articulate the values of the X-variables associated with the best performing loans."
   ]
  },
  {
   "cell_type": "code",
   "execution_count": 9,
   "metadata": {
    "hideCode": false,
    "hidePrompt": false,
    "scrolled": true
   },
   "outputs": [],
   "source": [
    "from sklearn import tree\n",
    "import sklearn\n",
    "\n",
    "#Q8a. (1pt.)\n",
    "\n",
    "#Q8b. (1pt.)\n",
    "\n",
    "#Q8c. (2pts)  Your answer here.\n",
    "\n",
    "#Q8d. (2pts.)  Your answer here.\n"
   ]
  },
  {
   "cell_type": "markdown",
   "metadata": {
    "hideCode": false,
    "hidePrompt": false
   },
   "source": [
    "## Q9. Build a tree using cost complexity pruning\n",
    "### 7 pts.\n",
    "\n",
    "In this question you can use the code from the Module 8 notes as a guide. The key is to identify the relevant pieces of code to get the job done.\n",
    "\n",
    "a. Set up a decision tree regressor and create its cost complexity pruning path. Save the alphas and impurities into variables.\n",
    "\n",
    "b. Write a for loop that iterates over the alphas, creating a new tree for each value of alpha, that is then saved (append) into a list that is called rgrs.\n",
    "\n",
    "c. Use the 'score' method to obtain the \"scores\" for both the training and test data sets. Save the scores into variables called 'train_scores' and 'test_scores'.\n",
    "\n",
    "d. Find and print the index at which the maximum of the *test* scores appears (use the .idxmax() method).\n",
    "\n",
    "e. Print out the test score (which is just the R-squared) for the best tree.\n",
    "\n",
    "\n",
    "\n",
    "\n",
    "\n"
   ]
  },
  {
   "cell_type": "code",
   "execution_count": 10,
   "metadata": {},
   "outputs": [],
   "source": [
    "#9a. (2pts.)\n",
    "\n",
    "#9b. (2pts.)\n",
    "\n",
    "#9c. (1pt.)   \n",
    "\n",
    "#9d. (1pt.)\n",
    "\n",
    "#9e. (1pt.)\n"
   ]
  }
 ],
 "metadata": {
  "hide_code_all_hidden": false,
  "kernelspec": {
   "display_name": "Python 3 (ipykernel)",
   "language": "python",
   "name": "python3"
  },
  "language_info": {
   "codemirror_mode": {
    "name": "ipython",
    "version": 3
   },
   "file_extension": ".py",
   "mimetype": "text/x-python",
   "name": "python",
   "nbconvert_exporter": "python",
   "pygments_lexer": "ipython3",
   "version": "3.11.5"
  },
  "toc": {
   "base_numbering": 1,
   "nav_menu": {},
   "number_sections": true,
   "sideBar": true,
   "skip_h1_title": false,
   "title_cell": "Table of Contents",
   "title_sidebar": "Contents",
   "toc_cell": false,
   "toc_position": {},
   "toc_section_display": true,
   "toc_window_display": false
  }
 },
 "nbformat": 4,
 "nbformat_minor": 4
}
