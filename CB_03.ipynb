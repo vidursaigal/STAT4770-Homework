{
 "cells": [
  {
   "cell_type": "markdown",
   "metadata": {
    "hideCode": false,
    "hidePrompt": false
   },
   "source": [
    "\n",
    "# CB 3, Stat 4770/7770, Fall 2024\n",
    " \n",
    "November 2024\n"
   ]
  },
  {
   "cell_type": "markdown",
   "metadata": {
    "hideCode": false,
    "hideOutput": true,
    "hidePrompt": false
   },
   "source": [
    "Introduction\n",
    "\n",
    "* In this homework you will download and read in a csv file that contains race times for a local 5K road running race. \n",
    "* The file includes finishing times together with the sex and age of the runner.\n",
    "* You will summarize the file both numerically and graphically."
   ]
  },
  {
   "cell_type": "markdown",
   "metadata": {
    "hideCode": false,
    "hidePrompt": false
   },
   "source": [
    "## Q1. Read in and review the data structure\n",
    "### 5 pts.\n",
    "\n",
    "> The data file is called \"Run5K.csv\".\n",
    "\n",
    "a. Download the data from the Canvas \"Data sets\" folder, to your computer and then into a pandas DataFrame. Call the data frame \"run_data\".\n",
    "\n",
    "b. Use the shape attribute to find the number of rows and columns in the data frame.\n",
    "\n",
    "c. Print out the column names.\n",
    "\n",
    "d. Print out and review the data types for the columns."
   ]
  },
  {
   "cell_type": "code",
   "execution_count": 3,
   "metadata": {
    "hideCode": false,
    "hidePrompt": false
   },
   "outputs": [
    {
     "name": "stdout",
     "output_type": "stream",
     "text": [
      "Shape of the data (rows, columns): (501, 4)\n",
      "Column names: ['Time_mins', 'Time_secs', 'SEX', 'AGE']\n",
      "Column data types:\n",
      "Time_mins     int64\n",
      "Time_secs     int64\n",
      "SEX          object\n",
      "AGE           int64\n",
      "dtype: object\n"
     ]
    }
   ],
   "source": [
    "import numpy as np\n",
    "import pandas as pd\n",
    "import matplotlib.pyplot as plt\n",
    "import seaborn as sns\n",
    "import os\n",
    "\n",
    "# Remove warnings\n",
    "import warnings\n",
    "warnings.filterwarnings('ignore')\n",
    "\n",
    "# Q1 \n",
    "#1a. (1pt.)\n",
    "file_path = \"Run5K.csv\"  # Adjust the path if needed\n",
    "run_data = pd.read_csv(file_path)\n",
    "\n",
    "#1b. (1pt.)\n",
    "print(\"Shape of the data (rows, columns):\", run_data.shape)\n",
    "\n",
    "#1c. (2pts.) \n",
    "print(\"Column names:\", run_data.columns.tolist())\n",
    "\n",
    "#1d. (1pt.)\n",
    "print(\"Column data types:\")\n",
    "print(run_data.dtypes)"
   ]
  },
  {
   "cell_type": "markdown",
   "metadata": {
    "hideCode": false,
    "hidePrompt": false
   },
   "source": [
    "## Q2. Create a new column called \"Finish_Time\"\n",
    "### 6pts.\n",
    "\n",
    "You might have noticed that there are two columns containing the race time. One contains the minutes, and the other the seconds.\n",
    "\n",
    "a. Create a *new* column in the run_data data frame called \"Finish_Time\" by adding minutes to seconds/60. As pandas is vectorized, you should be able to write a simple arithmetic expression involving the two time columns. There is no need for a for loop here. \n",
    "\n",
    "b. Calculate and print the average finish time of all participants. \n",
    "\n",
    "c. Print the average finish time for males and for females (use the groupby method). Remember that Python is case sensitive!\n",
    "\n",
    "d. Save the result from the groupby in 2c into a variable called \"mf_avs\", and using this variable calculate and print the difference between the average finish times. "
   ]
  },
  {
   "cell_type": "code",
   "execution_count": 9,
   "metadata": {
    "hideCode": false,
    "hidePrompt": false,
    "scrolled": false
   },
   "outputs": [
    {
     "name": "stdout",
     "output_type": "stream",
     "text": [
      "Average finish time (all participants): 26.549467731204256\n",
      "Average finish time by gender:\n",
      "SEX\n",
      "F    29.615881\n",
      "M    24.660161\n",
      "Name: Finish_Time, dtype: float64\n",
      "Difference in average finish times (Male vs. Female): 4.955720036029948\n"
     ]
    }
   ],
   "source": [
    "#2a. (1pt.) \n",
    "run_data[\"Finish_Time\"] = run_data[\"Time_mins\"] + run_data[\"Time_secs\"] / 60\n",
    "\n",
    "#2b. (1pt.)\n",
    "average_finish_time = run_data[\"Finish_Time\"].mean()\n",
    "print(\"Average finish time (all participants):\", average_finish_time)\n",
    "\n",
    "#2c. (2pts.)\n",
    "mf_avs = run_data.groupby(\"SEX\")[\"Finish_Time\"].mean()\n",
    "print(\"Average finish time by gender:\")\n",
    "print(mf_avs)\n",
    "\n",
    "\n",
    "#2d. (2pts.)\n",
    "gender_difference = abs(mf_avs['M'] - mf_avs['F'])  # Adjust if gender is case-sensitive\n",
    "print(\"Difference in average finish times (Male vs. Female):\", gender_difference)"
   ]
  },
  {
   "cell_type": "markdown",
   "metadata": {
    "hideCode": false,
    "hidePrompt": false
   },
   "source": [
    "## Q3 Bucket the age variable into groups \n",
    "### 7pts.\n",
    "\n",
    "In the class notes we used the 'qcut' function to bucket the \"Schedule lag\" data. In this question you should use the 'cut' command with age groups defined by these cutpoints: \n",
    "\n",
    "[0,16,25,30,35,40,45,50,55,60,65,70]\n",
    "\n",
    "a. Add the discretized Age variable to the run_data data frame and call the new column \"Disc_Age\". You will use the pd.cut function to build the new variable with the above \"bins\" to do this.\n",
    "\n",
    "b. Using 'groupby' again, find the average finish time by the 'Disc_Age' variable. \n",
    "\n",
    "c. Finally print the average finish time by the joint levels of SEX and Disc_Age.\n",
    "\n",
    "d. Using the results of part c, comment on how finish times vary by age, between men and women. That is, who does aging seem to impact the most?\n",
    "\n",
    "e. Using your answer to part c, pull out and print just the mean finish times for men and women, aged (40, 45].\n",
    "Hint: use the '.index.values' attribute to see just exactly what is in the MultiIndex returned with part c.\n",
    "Then use the .xs() method to extract using the appropriate label of the MultiIndex. This question is meant to involve you doing a bit of your own research to figure out how to do it!"
   ]
  },
  {
   "cell_type": "code",
   "execution_count": null,
   "metadata": {
    "hideCode": false,
    "hidePrompt": false,
    "scrolled": true
   },
   "outputs": [
    {
     "name": "stdout",
     "output_type": "stream",
     "text": [
      "Index(['Time_mins', 'Time_secs', 'SEX', 'AGE', 'Finish_Time', 'Disc_Age'], dtype='object')\n",
      "Average finish time by age group:\n",
      "Disc_Age\n",
      "[0, 16)     27.146541\n",
      "[16, 25)    23.018772\n",
      "[25, 30)    26.825000\n",
      "[30, 35)    28.502431\n",
      "[35, 40)    27.150546\n",
      "[40, 45)    27.041787\n",
      "[45, 50)    27.406566\n",
      "[50, 55)    26.809402\n",
      "[55, 60)    28.244444\n",
      "[60, 65)    27.026389\n",
      "[65, 70)    29.242857\n",
      "Name: Finish_Time, dtype: float64\n",
      "Average finish time by gender and age group:\n",
      "SEX  Disc_Age\n",
      "F    [0, 16)     29.445370\n",
      "     [16, 25)    28.523656\n",
      "     [25, 30)    29.021212\n",
      "     [30, 35)    30.581410\n",
      "     [35, 40)    29.644444\n",
      "     [40, 45)    30.321154\n",
      "     [45, 50)    29.623810\n",
      "     [50, 55)    29.885185\n",
      "     [55, 60)    30.250000\n",
      "     [60, 65)    30.116667\n",
      "     [65, 70)          NaN\n",
      "M    [0, 16)     25.964286\n",
      "     [16, 25)    20.352344\n",
      "     [25, 30)    22.798611\n",
      "     [30, 35)    26.045455\n",
      "     [35, 40)    24.211310\n",
      "     [40, 45)    25.058915\n",
      "     [45, 50)    26.371852\n",
      "     [50, 55)    25.886667\n",
      "     [55, 60)    27.515152\n",
      "     [60, 65)    26.745455\n",
      "     [65, 70)    29.242857\n",
      "Name: Finish_Time, dtype: float64\n",
      "Mean finish times for men and women aged (40, 45]:\n",
      "SEX  Disc_Age\n",
      "F    [40, 45)    30.321154\n",
      "M    [40, 45)    25.058915\n",
      "Name: Finish_Time, dtype: float64\n"
     ]
    }
   ],
   "source": [
    "#3a. (1pt.)\n",
    "bins = [0, 16, 25, 30, 35, 40, 45, 50, 55, 60, 65, 70]\n",
    "run_data[\"Disc_Age\"] = pd.cut(run_data[\"AGE\"], bins=bins, right=False)\n",
    "\n",
    "#3b. (1pt.)\n",
    "avg_finish_time_by_age = run_data.groupby(\"Disc_Age\")[\"Finish_Time\"].mean()\n",
    "print(\"Average finish time by age group:\")\n",
    "print(avg_finish_time_by_age)\n",
    "\n",
    "#3c. (1pt.)\n",
    "avg_finish_time_by_sex_age = run_data.groupby([\"SEX\", \"Disc_Age\"])[\"Finish_Time\"].mean()\n",
    "print(\"Average finish time by gender and age group:\")\n",
    "print(avg_finish_time_by_sex_age)\n",
    "\n",
    "#3d. (1pt.) Your comment here.\n",
    "# \"Aging seems to impact finish times for both men and women, with slower finish times observed in older age groups. \n",
    "# However, the impact of aging is more pronounced for [specific observations noted from results].\"\n",
    "\n",
    "#3e. (3pts.) \n",
    "men_women_40_45 = avg_finish_time_by_sex_age.xs(key=40, level=\"Disc_Age\", drop_level=False)\n",
    "print(\"Mean finish times for men and women aged (40, 45]:\")\n",
    "print(men_women_40_45)"
   ]
  },
  {
   "cell_type": "markdown",
   "metadata": {
    "hideCode": false,
    "hidePrompt": false
   },
   "source": [
    "## Q4 Explore the distribution of finish time\n",
    "### 6pts.\n",
    "\n",
    "> In the following questions the idea is to now use seaborn to graphically summarize the data.  \n",
    "\n",
    "a. Use the seaborn 'sns.displot' function to obtain a histogram of the finishing times.\n",
    "\n",
    "b. Change the color of the plot to green, and add the KDE. If you use the command 'plt.show()' after each histogram, you can get all the plots showing in the cell. If you don't then depending on how Jupyter is set up, you will only see the last one.\n"
   ]
  },
  {
   "cell_type": "code",
   "execution_count": 4,
   "metadata": {
    "hideCode": false,
    "hidePrompt": false,
    "scrolled": false
   },
   "outputs": [],
   "source": [
    "#4a. (3pts.)\n",
    "\n",
    "#4b. (3pts.)\n"
   ]
  },
  {
   "cell_type": "markdown",
   "metadata": {
    "hideCode": false,
    "hidePrompt": false
   },
   "source": [
    "## Q5 Comparing finishing time distributions for men and women\n",
    "### 6 pts.\n",
    "\n",
    "Use the 'sns.catplot' command to produce the required plots for this question.\n",
    "\n",
    "a. Make a 'box plot' of the finishing time, over the levels of Sex. Orient this plot vertically using the 'orient' argument. \n",
    "\n",
    "b. Turn the graph into a violin plot, still vertically orientated and plot it."
   ]
  },
  {
   "cell_type": "code",
   "execution_count": 5,
   "metadata": {
    "hideCode": false,
    "hidePrompt": false
   },
   "outputs": [],
   "source": [
    "#5a. (3pts.)\n",
    "\n",
    "#5b. (3pts.)\n"
   ]
  },
  {
   "cell_type": "markdown",
   "metadata": {
    "hideCode": false,
    "hidePrompt": false
   },
   "source": [
    "## Q6. Bringing age into the mix\n",
    "### 6 pts.\n",
    "These questions should use the 'relplot' command in seaborn. Use the continuous version of the AGE variable for now.\n",
    "\n",
    "a. Plot finish time against AGE. Use the 'height=6, aspect=2' arguments to 'relplot' to make the plot wider.)\n",
    "\n",
    "b. Add SEX as the hue to the previous plot and display the new plot. "
   ]
  },
  {
   "cell_type": "code",
   "execution_count": 6,
   "metadata": {
    "hideCode": false,
    "hidePrompt": false
   },
   "outputs": [],
   "source": [
    "#6a. (3pts.)\n",
    "\n",
    "#6b. (3pts.)\n"
   ]
  },
  {
   "cell_type": "markdown",
   "metadata": {
    "hideCode": false,
    "hidePrompt": false
   },
   "source": [
    "## Q7. Counting the number of people in each age bucket, by SEX\n",
    "### 6 pts.\n",
    "\n",
    "a. Use the sns.catplot command, with kind='count' to create a graphic that shows the number of runners in each age category, for the two sexes. You don't need a y-variable here, and use the col=\"SEX\" to get two **separate** graphs. \n",
    "\n",
    "b. Now create the same graph, but this time rotating the x-axis labels and using a **different** color palette of your choice. Just make sure that the results are clearly visible.\n",
    "\n",
    "c. Comment on the difference in age distribution between male and female runners."
   ]
  },
  {
   "cell_type": "code",
   "execution_count": 7,
   "metadata": {
    "hideCode": false,
    "hidePrompt": false
   },
   "outputs": [],
   "source": [
    "#7a. (2pts.)\n",
    "\n",
    "#7b. (2pts.)\n",
    "\n",
    "#7c. (2pts.) You answer here. \n"
   ]
  },
  {
   "cell_type": "markdown",
   "metadata": {
    "hideCode": false,
    "hidePrompt": false
   },
   "source": [
    "## Q8. Plot the mean finish time by age bucket and gender\n",
    "### 5 pts.\n",
    "\n",
    "a. Using the sns.catplot command again with 'Finish_Time' as the y-variable, plot the mean finish time (using kind=\"bar\" or kind = \"point\" will do this), over the **discrete** age groups, with the additional argument 'hue = \"SEX\"' to obtain a single plot. Use the 'height=6, aspect=2' arguments again to widen the plot. (This will create an appropriate graph for the summaries you calculated in Q3).\n",
    "\n",
    "b. Comment on the difference in average finish time between men and women as they age."
   ]
  },
  {
   "cell_type": "code",
   "execution_count": 8,
   "metadata": {
    "hideCode": false,
    "hidePrompt": false
   },
   "outputs": [],
   "source": [
    "#Q8a. (3pts.)\n",
    "\n",
    "#Q8b. (2pts.) Your comment here.\n",
    "# \n"
   ]
  },
  {
   "cell_type": "markdown",
   "metadata": {
    "hideCode": false,
    "hidePrompt": false
   },
   "source": [
    "## Q9. Make a mosaic plot of Sex by Age \n",
    "### 3 pts.\n",
    "\n",
    "a. Using the statsmodel package, create a mosaic plot that shows the proportion of men and women in each *age bucket*. (Make sure you have an up-to-date version of statsmodels to do this if you downloaded Anaconda prior to this semester).\n",
    "\n",
    "b. Write a sentence that describes what you learn from the mosaic plot.  "
   ]
  },
  {
   "cell_type": "code",
   "execution_count": 9,
   "metadata": {
    "hideCode": false,
    "hidePrompt": false
   },
   "outputs": [],
   "source": [
    "from statsmodels.graphics.mosaicplot import mosaic\n",
    "\n",
    "#9a. (2pts.)\n",
    "\n",
    "#9b. (1pt.) Your answer here.\n"
   ]
  }
 ],
 "metadata": {
  "hide_code_all_hidden": false,
  "kernelspec": {
   "display_name": "base",
   "language": "python",
   "name": "python3"
  },
  "language_info": {
   "codemirror_mode": {
    "name": "ipython",
    "version": 3
   },
   "file_extension": ".py",
   "mimetype": "text/x-python",
   "name": "python",
   "nbconvert_exporter": "python",
   "pygments_lexer": "ipython3",
   "version": "3.12.7"
  },
  "toc": {
   "base_numbering": 1,
   "nav_menu": {},
   "number_sections": true,
   "sideBar": true,
   "skip_h1_title": false,
   "title_cell": "Table of Contents",
   "title_sidebar": "Contents",
   "toc_cell": false,
   "toc_position": {},
   "toc_section_display": true,
   "toc_window_display": false
  }
 },
 "nbformat": 4,
 "nbformat_minor": 4
}
