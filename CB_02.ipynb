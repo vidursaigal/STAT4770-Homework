{
 "cells": [
  {
   "cell_type": "markdown",
   "metadata": {},
   "source": [
    "\n",
    "# Coding Brick 2, Stat 4770/7770, Fall 2024\n",
    " \n",
    "November 2024\n",
    "\n"
   ]
  },
  {
   "cell_type": "markdown",
   "metadata": {},
   "source": [
    "**Introduction**\n",
    "\n",
    "* In this homework you will download an html file from Yahoo Finance that contains a table of stock prices, trade volumes etc.\n",
    "* You can look at an example web page by following this link <https://finance.yahoo.com/quote/NVDA/history?p=NVDA>\n",
    "* Once you have the data in pandas you will clean the file so that it is suitable for analysis.\n",
    "* Finally, you will create some statistical summaries of the data."
   ]
  },
  {
   "cell_type": "markdown",
   "metadata": {},
   "source": [
    "## Q1. \n",
    "### 5 pts.\n",
    "\n",
    "a. Store the stock ticker symbol 'NVDA' in a variable called \"stock\".\n",
    "\n",
    "b. Create a new string variable called \"url\" that is the url of the Yahoo stock web page. It needs to look just like the link above with the ticker symbol embedded (in two places). You shouldn't hard code the stock symbol into the url, but rather use the .format() method on the string together with the {} notation to create the url. An example of this syntax is on the slide \"breaking out of a for loop\", slide 6.8, Module 2.\n",
    "\n",
    "c. Print the url variable and make sure it looks exactly like the link above."
   ]
  },
  {
   "cell_type": "code",
   "execution_count": 1,
   "metadata": {},
   "outputs": [],
   "source": [
    "# Q1 code goes here.\n",
    "\n",
    "#1a. (1pt.)\n",
    "\n",
    "#1b. (2pts.)\n",
    "\n",
    "#1c. (2pts.)   \n"
   ]
  },
  {
   "cell_type": "markdown",
   "metadata": {},
   "source": [
    "## Q2. Read in the html file and list the column names\n",
    "### 6pts.\n",
    "\n",
    "> This question uses the Python \"requests\" library. It is necessary here because Yahoo Finance won't now accept a typical pandas request. Yahoo needs to recognize the user-agent before it is willing send back data. The requests library allows you to rename the user-agent.\n",
    "\n",
    "a. Use the pd.read_html() command to obtain the data. Recall that the command returns a list of data frames, so pick off the first element. You just have to modify the given line of code, to pick off the first element of the list of data frames. The data frame is called \"stock_data\". Unlike the class notes, when you read in the html file, do **not** use the 'index_col=0' argument. Without this argument the dates appear in the first column of the data frame, and not as the index. \n",
    "\n",
    "b. Obtain and print the dimensions of data frame.\n",
    "\n",
    "c. Obtain and print the names of all the columns.\n",
    "\n",
    "d. Obtain and print the data types.\n",
    "\n",
    "e. What is the problem with the data type in terms of the \"Close Close price adjusted for splits.\" variable, given that we want to do some math on this variable later? \n",
    "\n",
    "f. Rename the column called \"Close Close price adjusted for splits.\", as \"Price\" and print out the new column names. Make sure that you use the 'inplace=True' argument to the rename method. "
   ]
  },
  {
   "cell_type": "code",
   "execution_count": 2,
   "metadata": {
    "scrolled": true
   },
   "outputs": [
    {
     "name": "stdout",
     "output_type": "stream",
     "text": [
      "2.0.3\n"
     ]
    },
    {
     "ename": "NameError",
     "evalue": "name 'url' is not defined",
     "output_type": "error",
     "traceback": [
      "\u001b[1;31m---------------------------------------------------------------------------\u001b[0m",
      "\u001b[1;31mNameError\u001b[0m                                 Traceback (most recent call last)",
      "Cell \u001b[1;32mIn[2], line 19\u001b[0m\n\u001b[0;32m      9\u001b[0m headers \u001b[38;5;241m=\u001b[39m {\n\u001b[0;32m     10\u001b[0m     \u001b[38;5;124m\"\u001b[39m\u001b[38;5;124mUser-Agent\u001b[39m\u001b[38;5;124m\"\u001b[39m: \u001b[38;5;124m\"\u001b[39m\u001b[38;5;124mMozilla/5.0 (Windows NT 10.0; Win64; x64) AppleWebKit/537.36 (KHTML, like Gecko) Chrome/91.0.4472.124 Safari/537.36\u001b[39m\u001b[38;5;124m\"\u001b[39m,\n\u001b[0;32m     11\u001b[0m     \u001b[38;5;124m\"\u001b[39m\u001b[38;5;124mAccept\u001b[39m\u001b[38;5;124m\"\u001b[39m: \u001b[38;5;124m\"\u001b[39m\u001b[38;5;124mtext/html,application/xhtml+xml,application/xml;q=0.9,image/webp,image/apng,*/*;q=0.8\u001b[39m\u001b[38;5;124m\"\u001b[39m,\n\u001b[1;32m   (...)\u001b[0m\n\u001b[0;32m     14\u001b[0m     \u001b[38;5;124m\"\u001b[39m\u001b[38;5;124mConnection\u001b[39m\u001b[38;5;124m\"\u001b[39m: \u001b[38;5;124m\"\u001b[39m\u001b[38;5;124mkeep-alive\u001b[39m\u001b[38;5;124m\"\u001b[39m,\n\u001b[0;32m     15\u001b[0m }\n\u001b[0;32m     17\u001b[0m \u001b[38;5;66;03m#2a. (1pts.)\u001b[39;00m\n\u001b[0;32m     18\u001b[0m \u001b[38;5;66;03m# Modify this line of code to extract the first table from the html page.\u001b[39;00m\n\u001b[1;32m---> 19\u001b[0m stock_data \u001b[38;5;241m=\u001b[39m pd\u001b[38;5;241m.\u001b[39mread_html(StringIO(requests\u001b[38;5;241m.\u001b[39mget(url, headers\u001b[38;5;241m=\u001b[39mheaders)\u001b[38;5;241m.\u001b[39mtext,))\n",
      "\u001b[1;31mNameError\u001b[0m: name 'url' is not defined"
     ]
    }
   ],
   "source": [
    "import pandas as pd\n",
    "import requests\n",
    "from io import StringIO\n",
    "print(pd.__version__) # This is your pandas version number which can help in debugging.\n",
    "\n",
    "# Code to encourage Yahoo to think the request is coming from a human.\n",
    "# You need to run this!\n",
    "\n",
    "headers = {\n",
    "    \"User-Agent\": \"Mozilla/5.0 (Windows NT 10.0; Win64; x64) AppleWebKit/537.36 (KHTML, like Gecko) Chrome/91.0.4472.124 Safari/537.36\",\n",
    "    \"Accept\": \"text/html,application/xhtml+xml,application/xml;q=0.9,image/webp,image/apng,*/*;q=0.8\",\n",
    "    \"Accept-Language\": \"en-US,en;q=0.9\",\n",
    "    \"Referer\": \"https://www.google.com\",\n",
    "    \"Connection\": \"keep-alive\",\n",
    "}\n",
    "\n",
    "#2a. (1pts.)\n",
    "# Modify this line of code to extract the first table from the html page.\n",
    "stock_data = pd.read_html(StringIO(requests.get(url, headers=headers).text,))\n",
    "\n",
    "#2b. (1pt.)\n",
    "\n",
    "#2c. (1pt.)\n",
    "\n",
    "#2d. (1pt.)\n",
    "\n",
    "#2e. (1pt.)\n",
    "\n",
    "#2f. (1pt.)\n"
   ]
  },
  {
   "cell_type": "markdown",
   "metadata": {
    "hideCode": true
   },
   "source": [
    "## Q3\n",
    "### 6pts.\n",
    "\n",
    "* It turns out that there are some row(s) in the data frame that are causing trouble. They have a character string in them and the row(s) is about half way down the data frame. Because of this, the Price column is treated as a string type. \n",
    "* You need to turn this column into a **numeric** column.\n",
    "* pandas has a function to do this and it is called 'to_numeric', and with the 'errors' argument set to 'coerce', it will turn any strings into NaN.  \n",
    "* You can then remove the row with the NaN value by using the .dropna() method and including the argument 'inplace=True'.\n",
    "\n",
    "a. Write a for loop that prints out every single entry of the Price column (this will help you see the underlying problem).\n",
    "\n",
    "b. Use the 'pd.to_numeric' function to turn the stock_data Price column to a numeric type. Make sure you assign this modified version of the Price column, back into the data frame. \n",
    "\n",
    "c. Print the data types in the data frame to confirm that this has worked. Price should now be of type 'float64'.\n",
    "\n",
    "d. Finally remove the row with the NaN in it, using .dropna. Print the dimensions of the modified data frame."
   ]
  },
  {
   "cell_type": "code",
   "execution_count": null,
   "metadata": {},
   "outputs": [],
   "source": [
    "# Q3 code goes here\n",
    "\n",
    "#3a. (2pts.)\n",
    "\n",
    "#3b. (2pts.)\n",
    "\n",
    "#3c. (1pt.)\n",
    "\n",
    "#3d. (1pt.)\n"
   ]
  },
  {
   "cell_type": "markdown",
   "metadata": {},
   "source": [
    "## Q4\n",
    "### 9 pts.\n",
    "\n",
    "Using the Price column in the cleaned data frame find and print:\n",
    "\n",
    "a. The average price:  .mean()\n",
    "\n",
    "b. The median price: .median()\n",
    "\n",
    "c. The standard deviation of the price: .std()\n",
    "\n",
    "d. The 20th and 80th percentiles of price (put the appropriate cut-off percentages in a list): .quantile([ , ])\n",
    "\n",
    "> For parts e and f, use the result of .idmax() and .idmin() as an index into the Date column.\n",
    "\n",
    "e. The day on which the maximum price occurred: .idxmax()\n",
    "\n",
    "f. The day on which the minimum price occurred: .idxmin()\n",
    "\n",
    "g. Use the .describe() function for an overall summary of the Price column.\n",
    "\n"
   ]
  },
  {
   "cell_type": "code",
   "execution_count": null,
   "metadata": {},
   "outputs": [],
   "source": [
    "# Q4 code goes here\n",
    "\n",
    "#4a. (1pt.)\n",
    "\n",
    "#4b. (1pt.)\n",
    "\n",
    "#4c. (1pt.)\n",
    "\n",
    "#4d. (1pt.)\n",
    "\n",
    "#4e. (2pts.)\n",
    "\n",
    "#4f. (2pts.)\n",
    "\n",
    "#4g. (1pt.)\n"
   ]
  },
  {
   "cell_type": "markdown",
   "metadata": {},
   "source": [
    "## Q5.\n",
    "###  6 pts.\n",
    "Note that the first column in the data frame contains date data but it is being viewed as type 'string'.\n",
    "\n",
    "a. Overwrite and cast this column as a date column using the pd.to_datetime() function, as in the Module 4 notes, slide 6.6.\n",
    "\n",
    "b. Print the type of the first element in the new Date column to confirm it is now a valid date type. So long as you see \".Timestamp\" as part of the type, you have this correct. "
   ]
  },
  {
   "cell_type": "code",
   "execution_count": null,
   "metadata": {},
   "outputs": [],
   "source": [
    "# Q5 code goes here\n",
    "\n",
    "#5a. (3pts.)\n",
    "\n",
    "# 5b. (3pts.)\n"
   ]
  },
  {
   "cell_type": "markdown",
   "metadata": {},
   "source": [
    "## Q6.\n",
    "### 8 pts.\n",
    "\n",
    "a. Create a new variable in the data frame called 'DayOfWeek' by using the .dt.day_name() method.\n",
    "\n",
    "b. Create a new variable in the data frame called 'MonthOfYear' by using the .dt.month_name() method.\n",
    "\n",
    "c. Print out all the columns in the stock_data data frame to confirm that the new columns are there. "
   ]
  },
  {
   "cell_type": "code",
   "execution_count": null,
   "metadata": {
    "scrolled": true
   },
   "outputs": [],
   "source": [
    "# Q6 code goes here\n",
    "\n",
    "#6a. Create day of week. (3pts.)\n",
    "\n",
    "#6b. Create month of year (3pts.)\n",
    "\n",
    "#6c. (2pt.)\n"
   ]
  },
  {
   "cell_type": "markdown",
   "metadata": {},
   "source": [
    "## Q7.\n",
    "### 5 pts.\n",
    "\n",
    "a. Print out the number of observations for each day of the week. Use the .value_counts() method.\n",
    "\n",
    "a. Print out the number of observations for each month of the year. Use the .value_counts() method."
   ]
  },
  {
   "cell_type": "code",
   "execution_count": null,
   "metadata": {
    "scrolled": true
   },
   "outputs": [],
   "source": [
    "# Q7 code goes here\n",
    "\n",
    "#Q7a. (3pts.)\n",
    "\n",
    "#Q7b. (2pts.)\n"
   ]
  },
  {
   "cell_type": "markdown",
   "metadata": {},
   "source": [
    "## Q8\n",
    "### 5pt.\n",
    "\n",
    "a. It is common to want to transform prices into returns. The formula is $R_t = \\frac{P_t - P_{t-1}}{P_{t-1}}$. Here, $R_t$ is the return for time t, and $P_t$ is the price at time t. Fortunately pandas has a built in method to do this which is called '.pct_change()'. Use this function to add a new column to the existing data frame called 'Return'. There is a subtelty here in that the dataframe is ordered from most recent price in the first row, to oldest price in the last row, which is unusual for a time series. For the pct_change method to work properly we need to first reverse the row order in the data frame.\n",
    "\n",
    "A quick way to reverse the data frame is provided at the top of the code block below.\n",
    "\n",
    "Print the first 5 rows of the reordered data frame to confirm that it now starts in September, and that the Return has been calculated as expected. The first element in the Return column should be an NaN, as it has no preceding price.\n",
    "\n",
    "b. Using the .groupby method, find and print the average return for each *day of the week*.\n",
    "\n",
    "c. Using the .groupby method, find and print the average return for each *month of the year*."
   ]
  },
  {
   "cell_type": "code",
   "execution_count": null,
   "metadata": {},
   "outputs": [],
   "source": [
    "# Q8 code goes here\n",
    "\n",
    "# Reverse the order of the rows in the data frame.\n",
    "stock_data = stock_data[::-1].copy()\n",
    "\n",
    "#8a. (3pts.)\n",
    "\n",
    "#8b. (1pt.)\n",
    "\n",
    "#8c. (1pts)\n"
   ]
  }
 ],
 "metadata": {
  "kernelspec": {
   "display_name": "Python 3 (ipykernel)",
   "language": "python",
   "name": "python3"
  },
  "language_info": {
   "codemirror_mode": {
    "name": "ipython",
    "version": 3
   },
   "file_extension": ".py",
   "mimetype": "text/x-python",
   "name": "python",
   "nbconvert_exporter": "python",
   "pygments_lexer": "ipython3",
   "version": "3.11.5"
  },
  "toc": {
   "base_numbering": 1,
   "nav_menu": {},
   "number_sections": true,
   "sideBar": true,
   "skip_h1_title": false,
   "title_cell": "Table of Contents",
   "title_sidebar": "Contents",
   "toc_cell": false,
   "toc_position": {},
   "toc_section_display": true,
   "toc_window_display": false
  },
  "varInspector": {
   "cols": {
    "lenName": 16,
    "lenType": 16,
    "lenVar": 40
   },
   "kernels_config": {
    "python": {
     "delete_cmd_postfix": "",
     "delete_cmd_prefix": "del ",
     "library": "var_list.py",
     "varRefreshCmd": "print(var_dic_list())"
    },
    "r": {
     "delete_cmd_postfix": ") ",
     "delete_cmd_prefix": "rm(",
     "library": "var_list.r",
     "varRefreshCmd": "cat(var_dic_list()) "
    }
   },
   "types_to_exclude": [
    "module",
    "function",
    "builtin_function_or_method",
    "instance",
    "_Feature"
   ],
   "window_display": false
  }
 },
 "nbformat": 4,
 "nbformat_minor": 4
}
