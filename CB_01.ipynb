{
 "cells": [
  {
   "cell_type": "markdown",
   "metadata": {
    "slideshow": {
     "slide_type": ""
    },
    "tags": []
   },
   "source": [
    "# CB 1. Stat 4770/7770. Fall 2024"
   ]
  },
  {
   "cell_type": "markdown",
   "metadata": {},
   "source": [
    "**Important**\n",
    "\n",
    "Make sure that the workbook you save and then submit has the relevant **outputs** for each question. The graders need to see the printed result for you to get credit for a question. Writing the code, that would generate the output if run, is not enough -- you have to run the code!\n"
   ]
  },
  {
   "cell_type": "markdown",
   "metadata": {
    "slideshow": {
     "slide_type": ""
    },
    "tags": []
   },
   "source": [
    "## Q1 \n",
    "### 4 points.\n",
    "My birthday is September 2nd, 1994.\n",
    "\n",
    "Using the convention MMDDYYYY, then my birthday number, ignoring the leading zero is 9021994.\n",
    "\n",
    "1a. In the cell below store your birthday number into a variable called \"birthday\".\n",
    "\n",
    "Now write code, using the birthday variable, to find and **print** the answer for all parts:\n",
    "\n",
    "1b. The fourth root of your birthday number.\n",
    "\n",
    "1c. Your birthday number, modulus 19. That's the remainder after being divided by 19.\n",
    "\n",
    "1d. The integer division of your birthday number by 19."
   ]
  },
  {
   "cell_type": "code",
   "execution_count": 1,
   "metadata": {},
   "outputs": [
    {
     "name": "stdout",
     "output_type": "stream",
     "text": [
      "Fourth root of birthday number: 54.80568793364656\n",
      "Birthday number modulus 19: 15\n",
      "Integer division of birthday number by 19: 474841\n"
     ]
    }
   ],
   "source": [
    "# Q1 code goes in this cell.\n",
    "\n",
    "# 1a (1pt.)\n",
    "birthday = 9021994\n",
    "# 1b (1pt.)\n",
    "fourth_root = birthday ** (1/4)\n",
    "print(\"Fourth root of birthday number:\", fourth_root)\n",
    "# 1c (1pt.)\n",
    "modulus_19 = birthday % 19\n",
    "print(\"Birthday number modulus 19:\", modulus_19)\n",
    "\n",
    "# 1d (1pt.)\n",
    "integer_division_19 = birthday // 19\n",
    "print(\"Integer division of birthday number by 19:\", integer_division_19)"
   ]
  },
  {
   "cell_type": "markdown",
   "metadata": {},
   "source": [
    "## Q2\n",
    "### 3 points.\n",
    "\n",
    "2a. In the cell below is a list that contains some distinct words. Write code that takes the words from the list, concatenating them and then saving them into a single variable called \"result\". Make sure that there is a space between each word. There are many approaches to answering this question, but \"brute force\" is OK here for now. Print the \"result\" variable.\n",
    "\n",
    "2b. Write code that returns and prints the \"type\" of the result variable.\n",
    "\n",
    "2c. Write code that prints the output of asking whether \"result\" is of type \"logical\" (bool). "
   ]
  },
  {
   "cell_type": "code",
   "execution_count": 2,
   "metadata": {},
   "outputs": [
    {
     "name": "stdout",
     "output_type": "stream",
     "text": [
      "Result: To be, or not to be? That is the question\n",
      "Type of result: <class 'str'>\n",
      "Is result of type logical (bool)? False\n"
     ]
    }
   ],
   "source": [
    "# Q2 code goes here.\n",
    "words = ['To', 'be,', 'or', 'not', 'to', 'be?', 'That', 'is', 'the', 'question']\n",
    "\n",
    "# 2a (1pt.)\n",
    "result = ' '.join(words)\n",
    "print(\"Result:\", result)\n",
    "\n",
    "# 2b (1pt.)\n",
    "result_type = type(result)\n",
    "print(\"Type of result:\", result_type)\n",
    "\n",
    "# 2c (1pt.)\n",
    "is_logical = isinstance(result, bool)\n",
    "print(\"Is result of type logical (bool)?\", is_logical)"
   ]
  },
  {
   "cell_type": "markdown",
   "metadata": {},
   "source": [
    "## Q3\n",
    "### 3 points.\n",
    "\n",
    "The log function is not a part of the Python core, but is accessible through the \"math\" module.\n",
    "\n",
    "3a. Write code to import the math module.\n",
    "\n",
    "3b. Write code to find the log base 10, of your birthday number and print the result.\n",
    "\n",
    "3c. Write code to apply the exponential function, to the log base e of your birthday number (use functions to do this, don't just write down the answer).  Print the result. There's no need to worry about rounding errors."
   ]
  },
  {
   "cell_type": "code",
   "execution_count": 3,
   "metadata": {
    "slideshow": {
     "slide_type": ""
    },
    "tags": []
   },
   "outputs": [
    {
     "name": "stdout",
     "output_type": "stream",
     "text": [
      "Log base 10 of birthday number: 6.955302533937954\n",
      "Exponential of log base e of birthday number: 9021994.000000013\n"
     ]
    }
   ],
   "source": [
    "# Q3 code goes here.\n",
    "\n",
    "# 3a (1pt.)\n",
    "import math\n",
    "\n",
    "# 3b (1pt.)\n",
    "birthday = 9021994\n",
    "log_base_10 = math.log10(birthday)\n",
    "print(\"Log base 10 of birthday number:\", log_base_10)\n",
    "\n",
    "# 3c (1pt.)\n",
    "exp_log_e = math.exp(math.log(birthday))\n",
    "print(\"Exponential of log base e of birthday number:\", exp_log_e)"
   ]
  },
  {
   "cell_type": "markdown",
   "metadata": {
    "slideshow": {
     "slide_type": ""
    },
    "tags": []
   },
   "source": [
    "## Q4\n",
    "### 8 points.\n",
    "\n",
    "> When the term \"position\" is used below, it is used in the sense that the first element in the list is in position 0, the second element is in position 1 and so on. When you manipulate the list in this question, you don't need to store the updated list in a new variable.\n",
    "\n",
    "4a. Make a list of the following entries and call it \"list_one\": \"Chicken\", \"Tofu\", 3.14, 24, 10, False, \"January\", -9,'No'\n",
    "\n",
    "4b. Write code that prints the length of the list. You need to write code to do this, not just eyeball the length of the list.\n",
    "\n",
    "4c. Write code that prints just the penultimate element of the list, regardless of the length of the list.\n",
    "\n",
    "4d. Write code using the slice notation that prints the elements in all the odd positions. \n",
    "\n",
    "4e. Write code using the slice notation that prints every third element of the list, starting from position 0.\n",
    "\n",
    "4f. Write code using the slice notation that reverses the order of the list. Print the reversed list. \n",
    "\n",
    "4g. Write code to append the string \"birthday\" to the end of the list. Print the list.\n",
    "\n",
    "4h. Write code to insert a new element, 1989, into the list in position 4 and print the updated list.\n",
    "\n",
    "4i. Write code that *removes* the element from the list in position 2 and saves it into a variable called 'result'. Print the updated list and the result variable. "
   ]
  },
  {
   "cell_type": "code",
   "execution_count": 4,
   "metadata": {},
   "outputs": [
    {
     "name": "stdout",
     "output_type": "stream",
     "text": [
      "Length of the list: 9\n",
      "Penultimate element: -9\n",
      "Elements in odd positions: ['Tofu', 24, False, -9]\n",
      "Every third element starting from position 0: ['Chicken', 24, 'January']\n",
      "Reversed list: ['No', -9, 'January', False, 10, 24, 3.14, 'Tofu', 'Chicken']\n",
      "List after appending 'birthday': ['Chicken', 'Tofu', 3.14, 24, 10, False, 'January', -9, 'No', 'birthday']\n",
      "List after inserting 1989 at position 4: ['Chicken', 'Tofu', 3.14, 24, 1989, 10, False, 'January', -9, 'No', 'birthday']\n",
      "Updated list after removing element at position 2: ['Chicken', 'Tofu', 24, 1989, 10, False, 'January', -9, 'No', 'birthday']\n",
      "Removed element: 3.14\n"
     ]
    }
   ],
   "source": [
    "# Q4 code goes here.\n",
    "\n",
    "# 4a (1pt.)\n",
    "list_one = [\"Chicken\", \"Tofu\", 3.14, 24, 10, False, \"January\", -9, 'No']\n",
    "\n",
    "# 4b (1/2pt.)\n",
    "print(\"Length of the list:\", len(list_one))\n",
    "\n",
    "# 4c (1/2pt.)\n",
    "print(\"Penultimate element:\", list_one[-2])\n",
    "\n",
    "# 4d (1pt.)\n",
    "print(\"Elements in odd positions:\", list_one[1::2])\n",
    "\n",
    "# 4e (1pt.)\n",
    "print(\"Every third element starting from position 0:\", list_one[0::3])\n",
    "\n",
    "# 4f (1pt.)\n",
    "print(\"Reversed list:\", list_one[::-1])\n",
    "\n",
    "# 4g (1pt.)\n",
    "list_one.append(\"birthday\")\n",
    "print(\"List after appending 'birthday':\", list_one)\n",
    "\n",
    "# 4h (1pt.)\n",
    "list_one.insert(4, 1989)\n",
    "print(\"List after inserting 1989 at position 4:\", list_one)\n",
    "\n",
    "# 4i (1pt.)\n",
    "result = list_one.pop(2)\n",
    "print(\"Updated list after removing element at position 2:\", list_one)\n",
    "print(\"Removed element:\", result)"
   ]
  },
  {
   "cell_type": "markdown",
   "metadata": {},
   "source": [
    "## Q5\n",
    "### 8 points\n",
    "The dict container is useful for storing complicated data structures.  In the cell below you can see a dict that contains information on some major companies, with the **'key'** being the stock ticker symbol. The values themselves include nested dicts and lists.\n",
    "\n",
    "5a. Write code to identify and print just the last name of Coke's CEO. Use the recursive [][]... notation.\n",
    "\n",
    "5b. There is an error in the dict. The CEO of JPM has last name \"Dimon\", not \"Demon\". Write code to correct this mistake and print out the corrected dict.\n",
    "\n",
    "5c. Write code to add NVIDIA's information to the dict, and print the updated dict (you can look up the stats using Yahoo Finance, and their ticker symbol is \"NVDA\").\n",
    "\n",
    "5d. Write a for loop that iterates over the four (you just added one) company keys, printing out the ticker symbol key and the city in which they are head-quartered. \n"
   ]
  },
  {
   "cell_type": "code",
   "execution_count": 5,
   "metadata": {},
   "outputs": [
    {
     "name": "stdout",
     "output_type": "stream",
     "text": [
      "Coke's CEO last name: Harrison\n",
      "Corrected dict: {'AMZN': {'FNAME': 'Amazon', 'HQ': {'STREET': '410 Terry Avenue North', 'CITY': 'Seattle', 'STATE': 'WA'}, 'CEO': ['Andy', 'Jassy'], 'EMPLOYEES': 1468000}, 'JPM': {'FNAME': 'JPMorgan Chase', 'HQ': {'STREET': '383 Madison Avenue', 'CITY': 'New York', 'STATE': 'NY'}, 'CEO': ['James', 'Dimon'], 'EMPLOYEES': 271025}, 'COKE': {'FNAME': 'Coca-Cola Consolidated', 'HQ': {'STREET': '4100 Coca-Cola Plaza', 'CITY': 'Charlotte', 'STATE': 'NC'}, 'CEO': ['Frank', 'Harrison'], 'EMPLOYEES': 14000}}\n",
      "Updated dict with NVIDIA: {'AMZN': {'FNAME': 'Amazon', 'HQ': {'STREET': '410 Terry Avenue North', 'CITY': 'Seattle', 'STATE': 'WA'}, 'CEO': ['Andy', 'Jassy'], 'EMPLOYEES': 1468000}, 'JPM': {'FNAME': 'JPMorgan Chase', 'HQ': {'STREET': '383 Madison Avenue', 'CITY': 'New York', 'STATE': 'NY'}, 'CEO': ['James', 'Dimon'], 'EMPLOYEES': 271025}, 'COKE': {'FNAME': 'Coca-Cola Consolidated', 'HQ': {'STREET': '4100 Coca-Cola Plaza', 'CITY': 'Charlotte', 'STATE': 'NC'}, 'CEO': ['Frank', 'Harrison'], 'EMPLOYEES': 14000}, 'NVDA': {'FNAME': 'NVIDIA', 'HQ': {'STREET': '2788 San Tomas Expressway', 'CITY': 'Santa Clara', 'STATE': 'CA'}, 'CEO': ['Jensen', 'Huang'], 'EMPLOYEES': 18975}}\n",
      "AMZN: Seattle\n",
      "JPM: New York\n",
      "COKE: Charlotte\n",
      "NVDA: Santa Clara\n"
     ]
    }
   ],
   "source": [
    "# Q5 code goes here.\n",
    "\n",
    "bizinfo = {'AMZN':{'FNAME':'Amazon', \n",
    "                   'HQ':{'STREET':'410 Terry Avenue North', 'CITY':'Seattle', 'STATE':'WA'}, \n",
    "                   'CEO' : [\"Andy\",\"Jassy\"], \n",
    "                   'EMPLOYEES': 1468000},\n",
    "           'JPM':{'FNAME':'JPMorgan Chase', \n",
    "                   'HQ':{'STREET':'383 Madison Avenue', 'CITY':'New York', 'STATE':'NY'}, \n",
    "                   'CEO':['James','Demon'], \n",
    "                   'EMPLOYEES':271025},\n",
    "           'COKE':{'FNAME':'Coca-Cola Consolidated', \n",
    "                   'HQ':{'STREET':'4100 Coca-Cola Plaza', 'CITY':'Charlotte', 'STATE':'NC'},\n",
    "                   'CEO':['Frank','Harrison'], \n",
    "                   'EMPLOYEES':14000}}\n",
    "\n",
    "# 5a. (1pt.)\n",
    "print(\"Coke's CEO last name:\", bizinfo['COKE']['CEO'][1])\n",
    "\n",
    "# 5b. (2pts.)\n",
    "bizinfo['JPM']['CEO'][1] = 'Dimon'\n",
    "print(\"Corrected dict:\", bizinfo)\n",
    "\n",
    "# 5c. (2pts.)\n",
    "bizinfo['NVDA'] = {'FNAME':'NVIDIA', \n",
    "                   'HQ':{'STREET':'2788 San Tomas Expressway', 'CITY':'Santa Clara', 'STATE':'CA'}, \n",
    "                   'CEO':['Jensen','Huang'], \n",
    "                   'EMPLOYEES':18975}\n",
    "print(\"Updated dict with NVIDIA:\", bizinfo)\n",
    "\n",
    "# 5d. (3pts.)\n",
    "for ticker, info in bizinfo.items():\n",
    "    print(f\"{ticker}: {info['HQ']['CITY']}\")"
   ]
  },
  {
   "cell_type": "markdown",
   "metadata": {},
   "source": [
    "## Q6\n",
    "###  6 points\n",
    "\n",
    "6a. Create an empty list called list_two.\n",
    "\n",
    "6b. Using a \"for\" loop, append the natural log of the numbers 1 through 30 (inclusive) to list_two. Print the updated list.\n",
    "\n",
    "6c. Sum the numbers in list_two and print the result. You can simply use the built in \"sum\" function to achieve this.\n",
    "\n",
    "6d. Use a \"list comprehension\" to create a new list, list_three, that contains two-tuples of each integer value, with its log, but only for the odd integers. Print this new list.\n",
    "> Hints: The zip command can be helpful here. The beginning of the list should look like this `[(1, 0.0), (3, 1.0986122886681098), (5, 1.6094379124341003),`"
   ]
  },
  {
   "cell_type": "code",
   "execution_count": 6,
   "metadata": {},
   "outputs": [
    {
     "name": "stdout",
     "output_type": "stream",
     "text": [
      "Updated list_two: [0.0, 0.6931471805599453, 1.0986122886681098, 1.3862943611198906, 1.6094379124341003, 1.791759469228055, 1.9459101490553132, 2.0794415416798357, 2.1972245773362196, 2.302585092994046, 2.3978952727983707, 2.4849066497880004, 2.5649493574615367, 2.6390573296152584, 2.70805020110221, 2.772588722239781, 2.833213344056216, 2.8903717578961645, 2.9444389791664403, 2.995732273553991, 3.044522437723423, 3.091042453358316, 3.1354942159291497, 3.1780538303479458, 3.2188758248682006, 3.258096538021482, 3.295836866004329, 3.332204510175204, 3.367295829986474, 3.4011973816621555]\n",
      "Sum of numbers in list_two: 74.65823634883017\n",
      "List_three with two-tuples of odd integers and their logs: [(1, 0.0), (3, 1.0986122886681098), (5, 1.6094379124341003), (7, 1.9459101490553132), (9, 2.1972245773362196), (11, 2.3978952727983707), (13, 2.5649493574615367), (15, 2.70805020110221), (17, 2.833213344056216), (19, 2.9444389791664403), (21, 3.044522437723423), (23, 3.1354942159291497), (25, 3.2188758248682006), (27, 3.295836866004329), (29, 3.367295829986474)]\n"
     ]
    }
   ],
   "source": [
    "# Q6 code goes here\n",
    "import math\n",
    "\n",
    "# 6a (1pt.)\n",
    "list_two = []\n",
    "\n",
    "# 6b (2pts.)\n",
    "for i in range(1, 31):\n",
    "    list_two.append(math.log(i))\n",
    "print(\"Updated list_two:\", list_two)\n",
    "\n",
    "# 6c (1pt.)\n",
    "sum_list_two = sum(list_two)\n",
    "print(\"Sum of numbers in list_two:\", sum_list_two)\n",
    "\n",
    "# 6d (2pts.)\n",
    "list_three = [(i, math.log(i)) for i in range(1, 31) if i % 2 != 0]\n",
    "print(\"List_three with two-tuples of odd integers and their logs:\", list_three)"
   ]
  },
  {
   "cell_type": "markdown",
   "metadata": {},
   "source": [
    "## Q7\n",
    "### 8 points\n",
    "\n",
    "Below is code to import the numpy library from which we will use a function to help generate a list of exponentially  distributed random numbers. There are 10000 numbers in the list which is called rvs.\n",
    "\n",
    "a. Use a \"for\" statement with an embedded if statement to find the sum of those numbers in the list, that are strictly greater than 1. (As an aside, this is called a \"truncation\" of the probability distribution.)\n",
    "\n",
    "b. Divide the sum from part a, by the number of observations greater than 1, to find their average. Print the answer.  (Aside: if you have this correct then your answer should be very close to 2.) "
   ]
  },
  {
   "cell_type": "code",
   "execution_count": 7,
   "metadata": {
    "scrolled": true
   },
   "outputs": [
    {
     "name": "stdout",
     "output_type": "stream",
     "text": [
      "Average of values greater than 1: 2.0038439845351186\n"
     ]
    }
   ],
   "source": [
    "import numpy as np\n",
    "np.random.seed(seed=2024) # Set the seed of the random number generator for reproducibility.\n",
    "rvs = list(np.random.exponential(scale=1, size=10000))\n",
    "\n",
    "running_sum = 0 # A running sum of the positive values.\n",
    "num_gt1 = 0 # A counter for the number of values greater than 1.\n",
    "\n",
    "# Q7 code goes here.\n",
    "\n",
    "# 7a (6pts.)\n",
    "for value in rvs:\n",
    "    if value > 1:\n",
    "        running_sum += value\n",
    "        num_gt1 += 1\n",
    "\n",
    "# 7b (2pts.)\n",
    "average_gt1 = running_sum / num_gt1 if num_gt1 != 0 else 0\n",
    "print(\"Average of values greater than 1:\", average_gt1)"
   ]
  },
  {
   "cell_type": "markdown",
   "metadata": {},
   "source": [
    "## Q8\n",
    "### 10 points\n",
    "\n",
    "In this question you will estimate how many throws on average it takes to get three sixes in a row, using a fair die.\n",
    "You will write code for a Monte Carlo simulation that has 10000 iterations.\n",
    "This question is quite similar in structure to the \"Ace occurs\" example in the Module 2 slides so I suggest you review that first.\n",
    "\n",
    "Process:\n",
    "* First create an empty list that will store the results of each iteration. Call it \"vals\".\n",
    "* Next create a variable that indicates the number of iterations (10000) for the simulation. Call it \"num_its\".\n",
    "* Write a for loop that iterates 10000 times:\n",
    "* Inside the for loop create a variable to count the number of throws until you see three sixes in a row. Call it \"counter\" and initialize it to the value 3.\n",
    "* Inside the for loop create an initial list, called recent_three, with the first three rolls of the die. Here's code that will do that for you:\n",
    "`recent_three = [np.random.randint(low=1,high=7), np.random.randint(low=1,high=7), np.random.randint(low=1,high=7)]`.\n",
    "* Use a while statement inside the for loop that keeps going until you get three sixes in a row. An easy way to do this is to check whether the sum of the last three throws equals 18. \n",
    "    * **Inside** the while loop you should increase your throws counter by 1.\n",
    "    * **Inside** the while loop remove the first element from the recent_three list.\n",
    "    * **Inside** the while loop throw a die again and append its value to the recent_three list.\n",
    "* When the while loop exits, append the number of throws counter to the \"vals\" list.\n",
    "* Finally, find the average of the numbers inside the vals list.\n",
    "* If you have done this correctly you should get an answer close to 258.\n",
    "* If you inadvertently create an infinite while loop (the character inside the 'In []:' cell identifier remains a \"\\*\"), then hit the square button in the tool bar to 'interrupt the kernel'.\n",
    "\n",
    "When you develop the code I suggest setting iterations at a small number (like 10) so you don't waste time waiting for the simulation to run.\n",
    "\n"
   ]
  },
  {
   "cell_type": "code",
   "execution_count": 10,
   "metadata": {
    "slideshow": {
     "slide_type": ""
    },
    "tags": []
   },
   "outputs": [
    {
     "name": "stdout",
     "output_type": "stream",
     "text": [
      "Average number of throws to get three sixes in a row: 259.752\n"
     ]
    }
   ],
   "source": [
    "# Q8 code goes here. (10pts.)\n",
    "import numpy as np\n",
    "np.random.seed(seed=2024) # Set the seed of the random number generator for reproducibility\n",
    "\n",
    "# Create an empty list to store the results of each iteration\n",
    "vals = []\n",
    "\n",
    "# Number of iterations for the simulation\n",
    "num_its = 10000\n",
    "\n",
    "# Monte Carlo simulation\n",
    "for _ in range(num_its):\n",
    "    # Counter for the number of throws until three sixes in a row\n",
    "    counter = 3\n",
    "    \n",
    "    # Initial list with the first three rolls of the die\n",
    "    recent_three = [np.random.randint(low=1, high=7), np.random.randint(low=1, high=7), np.random.randint(low=1, high=7)]\n",
    "    \n",
    "    # While loop to keep going until three sixes in a row\n",
    "    while sum(recent_three) != 18:\n",
    "        counter += 1\n",
    "        recent_three.pop(0)\n",
    "        recent_three.append(np.random.randint(low=1, high=7))\n",
    "    \n",
    "    # Append the number of throws counter to the vals list\n",
    "    vals.append(counter)\n",
    "\n",
    "# Find the average of the numbers inside the vals list\n",
    "average_throws = sum(vals) / len(vals)\n",
    "print(\"Average number of throws to get three sixes in a row:\", average_throws)"
   ]
  }
 ],
 "metadata": {
  "kernelspec": {
   "display_name": "base",
   "language": "python",
   "name": "python3"
  },
  "language_info": {
   "codemirror_mode": {
    "name": "ipython",
    "version": 3
   },
   "file_extension": ".py",
   "mimetype": "text/x-python",
   "name": "python",
   "nbconvert_exporter": "python",
   "pygments_lexer": "ipython3",
   "version": "3.9.13"
  },
  "toc": {
   "base_numbering": 1,
   "nav_menu": {},
   "number_sections": true,
   "sideBar": true,
   "skip_h1_title": false,
   "title_cell": "Table of Contents",
   "title_sidebar": "Contents",
   "toc_cell": false,
   "toc_position": {
    "height": "calc(100% - 180px)",
    "left": "10px",
    "top": "150px",
    "width": "247.391px"
   },
   "toc_section_display": true,
   "toc_window_display": true
  },
  "varInspector": {
   "cols": {
    "lenName": 16,
    "lenType": 16,
    "lenVar": 40
   },
   "kernels_config": {
    "python": {
     "delete_cmd_postfix": "",
     "delete_cmd_prefix": "del ",
     "library": "var_list.py",
     "varRefreshCmd": "print(var_dic_list())"
    },
    "r": {
     "delete_cmd_postfix": ") ",
     "delete_cmd_prefix": "rm(",
     "library": "var_list.r",
     "varRefreshCmd": "cat(var_dic_list()) "
    }
   },
   "types_to_exclude": [
    "module",
    "function",
    "builtin_function_or_method",
    "instance",
    "_Feature"
   ],
   "window_display": false
  }
 },
 "nbformat": 4,
 "nbformat_minor": 4
}
